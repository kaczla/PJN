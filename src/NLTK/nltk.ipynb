{
 "cells": [
  {
   "cell_type": "markdown",
   "metadata": {},
   "source": [
    "# NLTK\n",
    "PYTHON\n",
    "\n",
    "\n",
    "## Wymagania:\n",
    "- Znajomość podstaw Python'a\n",
    "- Python 2.7 lub 3.2+\n",
    "\n",
    "\n",
    "## Instalacja NLTK:\n",
    "1. Instalacja <b>Python-pip</b>:\n",
    "    1. Debian/Ubuntu:\n",
    "        - sudo apt-get install python-pip\n",
    "    1. Fedora:\n",
    "        - sudo yum install python-pip\n",
    "\n",
    "\n",
    "1. Instalacja <b>NLTK</b>:\n",
    "    - sudo pip install -U nltk\n",
    "\n",
    "\n",
    "1. (OPCJONALNE) Instalacja <b>Numpy</b>:\n",
    "    - sudo pip install -U numpy\n",
    "\n",
    "\n",
    "1. Test użycia:\n",
    "    - python -c \"import nltk\"\n",
    "\n",
    "\n",
    "1. Pobranie zewnętrznych danych:\n",
    "    - Automatycznie (pobranie danych do /usr/share/nltk_data):\n",
    "        - sudo python -m nltk.downloader -d /usr/share/nltk_data all\n",
    "    - Graficznie:\n",
    "        - python2 -c \"import nltk;nltk.download()\"\n",
    "        - \n",
    "\n",
    "\n"
   ]
  },
  {
   "cell_type": "code",
   "execution_count": null,
   "metadata": {
    "collapsed": true
   },
   "outputs": [],
   "source": []
  },
  {
   "cell_type": "code",
   "execution_count": null,
   "metadata": {
    "collapsed": true
   },
   "outputs": [],
   "source": []
  }
 ],
 "metadata": {
  "kernelspec": {
   "display_name": "Python 2",
   "language": "python",
   "name": "python2"
  },
  "language_info": {
   "codemirror_mode": {
    "name": "ipython",
    "version": 2
   },
   "file_extension": ".py",
   "mimetype": "text/x-python",
   "name": "python",
   "nbconvert_exporter": "python",
   "pygments_lexer": "ipython2",
   "version": "2.7.10"
  }
 },
 "nbformat": 4,
 "nbformat_minor": 0
}
