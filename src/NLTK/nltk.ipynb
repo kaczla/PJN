{
 "cells": [
  {
   "cell_type": "markdown",
   "metadata": {},
   "source": [
    "# <center>NLTK</center>\n",
    "<center>PYTHON</center>\n",
    "\n",
    "---\n",
    "\n",
    "# Spis treści:\n",
    "1. [Co to NLTK?](#Co-to-NLTK?)\n",
    "1. [Wymagania](#Wymagania)\n",
    "1. [Instalacja NLTK](#Instalacja-NLTK)\n",
    "1. [Przykład dla języka angielskiego:](#Język-angielski)\n",
    "    1. [Import NLTK](#Import-NLTK)\n",
    "    1. [Word Tokenize](#Word-Tokenize)\n",
    "    1. [Sentence Tokenize](#Sentence-Tokenize)\n",
    "    1. [Pos Tagger](#Pos-Tagger)\n",
    "    1. [Lemmatizer](#Lemmatizer)\n",
    "    1. [Sentence Tokenize dla języka niemieckiego](#Sentence-Tokenize-DE)\n",
    "1. [Wersja Online](#Online-NLKT)\n",
    "1. [Uwagi](#Uwagi)\n"
   ]
  },
  {
   "cell_type": "markdown",
   "metadata": {},
   "source": [
    "---\n",
    "\n",
    "## Co to NLTK?\n",
    "<b>Natural Language Toolkit</b>, znany też jako <b>NLTK</b> – zestaw bibliotek i programów do symbolicznego i statystycznego przetwarzania języka naturalnego. NLTK zawiera demonstracje graficzne i przykładowe dane.\n",
    "<br>\n",
    "Autorzy: <i>Steven Bird</i>, <i>Edward Loper</i>, <i>Ewan Klein</i>\n",
    "<br>\n",
    "[Oficjalna strona projektu](http://www.nltk.org/)\n",
    "[<div align=\"right\">↑ Powrót do spisu treści ↑</div>](#Spis-treści:)"
   ]
  },
  {
   "cell_type": "markdown",
   "metadata": {},
   "source": [
    "---\n",
    "\n",
    "## Wymagania\n",
    "- Znajomość podstaw Przetwarzania Języka Naturalnego\n",
    "- Znajomość podstaw Python'a\n",
    "- Python 2.7 lub 3.2+\n",
    "[<div align=\"right\">↑ Powrót do spisu treści ↑</div>](#Spis-treści:)"
   ]
  },
  {
   "cell_type": "markdown",
   "metadata": {},
   "source": [
    "---\n",
    "\n",
    "## Instalacja NLTK\n",
    "1. Instalacja <b>Python-pip</b>:\n",
    "    1. <b>Debian/Ubuntu</b>:\n",
    "        - `sudo apt-get install python-pip`\n",
    "    1. <b>Fedora</b>:\n",
    "        - `sudo yum install python-pip`<br><br>\n",
    "1. Instalacja <b>NLTK</b>:\n",
    "    - `sudo pip install -U nltk`<br><br>\n",
    "1. (OPCJONALNE) Instalacja <b>Numpy</b>:\n",
    "    - `sudo pip install -U numpy`<br><br>\n",
    "1. Test użycia:\n",
    "    - `python -c \"import nltk\"`<br><br>\n",
    "1. Pobranie zewnętrznych danych:\n",
    "    1. Automatycznie (pobranie danych do /usr/share/nltk_data):\n",
    "        - `sudo python -m nltk.downloader -d /usr/share/nltk_data all`<br><br>\n",
    "    1. Graficznie:\n",
    "        - `python -c \"import nltk;nltk.download()\"`\n",
    "            - wybrać lokalizację instalacji w polu <b>Download Directory</b>\n",
    "            - wybrać interesujące nas pakiety i akceptować przyciskiem <b>Download</b>\n",
    "        ![download](https://raw.githubusercontent.com/kaczla/PJN/master/src/NLTK/nltk.png)\n",
    "\n",
    "[<div align=\"right\">↑ Powrót do spisu treści ↑</div>](#Spis-treści:)\n",
    "\n",
    "---\n",
    "\n",
    "### <center>Import NLTK</center>\n",
    "Zaimportowanie całego NLTK:\n",
    "[<div align=\"right\">↑ Powrót do spisu treści ↑</div>](#Spis-treści:)"
   ]
  },
  {
   "cell_type": "code",
   "execution_count": 1,
   "metadata": {
    "collapsed": true
   },
   "outputs": [],
   "source": [
    "import nltk"
   ]
  },
  {
   "cell_type": "markdown",
   "metadata": {},
   "source": [
    "---\n",
    "\n",
    "### <center>Język angielski</center>\n",
    "Przykłady dla języka angielskiego:"
   ]
  },
  {
   "cell_type": "code",
   "execution_count": 2,
   "metadata": {
    "collapsed": true
   },
   "outputs": [],
   "source": [
    "text = \"Natural language processing (NLP) is a field of e.g. computer science, artificial intelligence, and computational linguistics concerned with the interactions between computers and human (natural) languages. As such, NLP is related to the area of human-computer interaction. Many challenges in NLP involve natural language understanding, that is, enabling computers to derive meaning from human or natural language input, and others involve natural language generation.\"\n",
    "one_sentence = \"I eat breakfast at 8:00 a.m.\""
   ]
  },
  {
   "cell_type": "markdown",
   "metadata": {},
   "source": [
    "---\n",
    "\n",
    "### <center>Word Tokenize</center>\n",
    "Podział na tokeny (<b>bez możliwości wyboru języka</b>) tworzy prostą listę słów i znaków interpunkcyjnych:\n",
    "[<div align=\"right\">↑ Powrót do spisu treści ↑</div>](#Spis-treści:)"
   ]
  },
  {
   "cell_type": "code",
   "execution_count": 3,
   "metadata": {
    "collapsed": false,
    "scrolled": false
   },
   "outputs": [
    {
     "data": {
      "text/plain": [
       "['Natural',\n",
       " 'language',\n",
       " 'processing',\n",
       " '(',\n",
       " 'NLP',\n",
       " ')',\n",
       " 'is',\n",
       " 'a',\n",
       " 'field',\n",
       " 'of',\n",
       " 'e.g',\n",
       " '.',\n",
       " 'computer',\n",
       " 'science',\n",
       " ',',\n",
       " 'artificial',\n",
       " 'intelligence',\n",
       " ',',\n",
       " 'and',\n",
       " 'computational',\n",
       " 'linguistics',\n",
       " 'concerned',\n",
       " 'with',\n",
       " 'the',\n",
       " 'interactions',\n",
       " 'between',\n",
       " 'computers',\n",
       " 'and',\n",
       " 'human',\n",
       " '(',\n",
       " 'natural',\n",
       " ')',\n",
       " 'languages',\n",
       " '.',\n",
       " 'As',\n",
       " 'such',\n",
       " ',',\n",
       " 'NLP',\n",
       " 'is',\n",
       " 'related',\n",
       " 'to',\n",
       " 'the',\n",
       " 'area',\n",
       " 'of',\n",
       " 'human-computer',\n",
       " 'interaction',\n",
       " '.',\n",
       " 'Many',\n",
       " 'challenges',\n",
       " 'in',\n",
       " 'NLP',\n",
       " 'involve',\n",
       " 'natural',\n",
       " 'language',\n",
       " 'understanding',\n",
       " ',',\n",
       " 'that',\n",
       " 'is',\n",
       " ',',\n",
       " 'enabling',\n",
       " 'computers',\n",
       " 'to',\n",
       " 'derive',\n",
       " 'meaning',\n",
       " 'from',\n",
       " 'human',\n",
       " 'or',\n",
       " 'natural',\n",
       " 'language',\n",
       " 'input',\n",
       " ',',\n",
       " 'and',\n",
       " 'others',\n",
       " 'involve',\n",
       " 'natural',\n",
       " 'language',\n",
       " 'generation',\n",
       " '.']"
      ]
     },
     "execution_count": 3,
     "metadata": {},
     "output_type": "execute_result"
    }
   ],
   "source": [
    "tokens = nltk.word_tokenize(text)\n",
    "tokens"
   ]
  },
  {
   "cell_type": "markdown",
   "metadata": {},
   "source": [
    "---\n",
    "\n",
    "### <center>Sentence Tokenize</center>\n",
    "\n",
    "Dla podziału na zdania należy załadować <b>tokenizers/punkt/english.pickle</b> (dla języka angielskiego):\n",
    "[<div align=\"right\">↑ Powrót do spisu treści ↑</div>](#Spis-treści:)"
   ]
  },
  {
   "cell_type": "code",
   "execution_count": 4,
   "metadata": {
    "collapsed": false
   },
   "outputs": [
    {
     "data": {
      "text/plain": [
       "['Natural language processing (NLP) is a field of e.g.',\n",
       " 'computer science, artificial intelligence, and computational linguistics concerned with the interactions between computers and human (natural) languages.',\n",
       " 'As such, NLP is related to the area of human-computer interaction.',\n",
       " 'Many challenges in NLP involve natural language understanding, that is, enabling computers to derive meaning from human or natural language input, and others involve natural language generation.']"
      ]
     },
     "execution_count": 4,
     "metadata": {},
     "output_type": "execute_result"
    }
   ],
   "source": [
    "sent_tokenize = nltk.data.load('tokenizers/punkt/english.pickle')\n",
    "sent_tokenize.tokenize(text)"
   ]
  },
  {
   "cell_type": "markdown",
   "metadata": {},
   "source": [
    "---\n",
    "\n",
    "### <center>Pos Tagger</center>\n",
    "Wykorzystanie prostego Pos Tagger'a:\n",
    "\n",
    "|Skrót|Nazwa|Przykład|\n",
    "|-|-|\n",
    "|ADJ|adjective|new, good, high, special, big, local|\n",
    "|ADV|adverb|really, already, still, early, now|\n",
    "|CNJ|conjunction|and, or, but, if, while, although|\n",
    "|DET|determiner|the, a, some, most, every, no|\n",
    "|EX|existential|there, there's|\n",
    "|FW|foreign word|dolce, ersatz, esprit, quo, maitre|\n",
    "|MOD|modal verb|will, can, would, may, must, should|\n",
    "|N|noun|year, home, costs, time, education|\n",
    "|NP|proper noun|Alison, Africa, April, Washington|\n",
    "|NUM|number|twenty-four, fourth, 1991, 14:24|\n",
    "|PRO|pronoun|he, their, her, its, my, I, us|\n",
    "|P|preposition|on, of, at, with, by, into, under|\n",
    "|TO|the word to|to|\n",
    "|UH|interjection|ah, bang, ha, whee, hmpf, oops|\n",
    "|V|verb|is, has, get, do, make, see, run|\n",
    "|VD|past tense|said, took, told, made, asked|\n",
    "|VG|present participle|making, going, playing, working|\n",
    "|VN|past participle|given, taken, begun, sung|\n",
    "|WH|wh determiner|who, which, when, what, where, how|\n",
    "[<div align=\"right\">↑ Powrót do spisu treści ↑</div>](#Spis-treści:)"
   ]
  },
  {
   "cell_type": "code",
   "execution_count": 5,
   "metadata": {
    "collapsed": false
   },
   "outputs": [
    {
     "data": {
      "text/plain": [
       "[('Natural', 'JJ'),\n",
       " ('language', 'NN'),\n",
       " ('processing', 'NN'),\n",
       " ('(', '('),\n",
       " ('NLP', 'NNP'),\n",
       " (')', ')'),\n",
       " ('is', 'VBZ'),\n",
       " ('a', 'DT'),\n",
       " ('field', 'NN'),\n",
       " ('of', 'IN'),\n",
       " ('e.g', 'NN'),\n",
       " ('.', '.'),\n",
       " ('computer', 'NN'),\n",
       " ('science', 'NN'),\n",
       " (',', ','),\n",
       " ('artificial', 'JJ'),\n",
       " ('intelligence', 'NN'),\n",
       " (',', ','),\n",
       " ('and', 'CC'),\n",
       " ('computational', 'JJ'),\n",
       " ('linguistics', 'NNS'),\n",
       " ('concerned', 'VBN'),\n",
       " ('with', 'IN'),\n",
       " ('the', 'DT'),\n",
       " ('interactions', 'NNS'),\n",
       " ('between', 'IN'),\n",
       " ('computers', 'NNS'),\n",
       " ('and', 'CC'),\n",
       " ('human', 'JJ'),\n",
       " ('(', '('),\n",
       " ('natural', 'JJ'),\n",
       " (')', ')'),\n",
       " ('languages', 'VBZ'),\n",
       " ('.', '.'),\n",
       " ('As', 'IN'),\n",
       " ('such', 'JJ'),\n",
       " (',', ','),\n",
       " ('NLP', 'NNP'),\n",
       " ('is', 'VBZ'),\n",
       " ('related', 'VBN'),\n",
       " ('to', 'TO'),\n",
       " ('the', 'DT'),\n",
       " ('area', 'NN'),\n",
       " ('of', 'IN'),\n",
       " ('human-computer', 'JJ'),\n",
       " ('interaction', 'NN'),\n",
       " ('.', '.'),\n",
       " ('Many', 'JJ'),\n",
       " ('challenges', 'NNS'),\n",
       " ('in', 'IN'),\n",
       " ('NLP', 'NNP'),\n",
       " ('involve', 'VBP'),\n",
       " ('natural', 'JJ'),\n",
       " ('language', 'NN'),\n",
       " ('understanding', 'NN'),\n",
       " (',', ','),\n",
       " ('that', 'WDT'),\n",
       " ('is', 'VBZ'),\n",
       " (',', ','),\n",
       " ('enabling', 'VBG'),\n",
       " ('computers', 'NNS'),\n",
       " ('to', 'TO'),\n",
       " ('derive', 'VB'),\n",
       " ('meaning', 'NN'),\n",
       " ('from', 'IN'),\n",
       " ('human', 'NN'),\n",
       " ('or', 'CC'),\n",
       " ('natural', 'JJ'),\n",
       " ('language', 'NN'),\n",
       " ('input', 'NN'),\n",
       " (',', ','),\n",
       " ('and', 'CC'),\n",
       " ('others', 'NNS'),\n",
       " ('involve', 'VBP'),\n",
       " ('natural', 'JJ'),\n",
       " ('language', 'NN'),\n",
       " ('generation', 'NN'),\n",
       " ('.', '.')]"
      ]
     },
     "execution_count": 5,
     "metadata": {},
     "output_type": "execute_result"
    }
   ],
   "source": [
    "tagged = nltk.pos_tag(tokens)\n",
    "tagged"
   ]
  },
  {
   "cell_type": "markdown",
   "metadata": {},
   "source": [
    "---\n",
    "\n",
    "<b>Graficznie:</b>\n",
    "[<div align=\"right\">↑ Powrót do spisu treści ↑</div>](#Spis-treści:)"
   ]
  },
  {
   "cell_type": "code",
   "execution_count": 6,
   "metadata": {
    "collapsed": false,
    "scrolled": true
   },
   "outputs": [
    {
     "data": {
      "image/png": "[encoded data removed]",
      "text/plain": [
       "Tree('S', [('I', 'PRP'), ('eat', 'VBP'), ('breakfast', 'NN'), ('at', 'IN'), ('8:00', 'CD'), ('a.m', 'NN'), ('.', '.')])"
      ]
     },
     "execution_count": 6,
     "metadata": {},
     "output_type": "execute_result"
    }
   ],
   "source": [
    "one_sentence_pos_tags = nltk.pos_tag(nltk.word_tokenize(one_sentence))\n",
    "entities = nltk.chunk.ne_chunk(one_sentence_pos_tags)\n",
    "entities"
   ]
  },
  {
   "cell_type": "markdown",
   "metadata": {},
   "source": [
    "---\n",
    "\n",
    "### <center>Lemmatizer</center>\n",
    "Lematyzator bazuje na [WordNet](https://wordnet.princeton.edu/).\n",
    "\n",
    "Słowa (ANG = PL):\n",
    "- aardwolves = Protel, protel grzywiasty, hiena grzywiasta\n",
    "- dogs - pies\n",
    "- abacuses, abaci = abakus (liczydło)\n",
    "[<div align=\"right\">↑ Powrót do spisu treści ↑</div>](#Spis-treści:)"
   ]
  },
  {
   "cell_type": "code",
   "execution_count": 7,
   "metadata": {
    "collapsed": false
   },
   "outputs": [
    {
     "name": "stdout",
     "output_type": "stream",
     "text": [
      "aardwolves \t= aardwolf\n",
      "dogs \t= dog\n",
      "abaci \t= abacus\n"
     ]
    }
   ],
   "source": [
    "wnl = nltk.stem.WordNetLemmatizer()\n",
    "print \"aardwolves \\t=\", wnl.lemmatize(\"aardwolves\")\n",
    "print \"dogs \\t=\", wnl.lemmatize(\"dogs\")\n",
    "print \"abaci \\t=\", wnl.lemmatize(\"abaci\")"
   ]
  },
  {
   "cell_type": "markdown",
   "metadata": {},
   "source": [
    "---\n",
    "\n",
    "### <center>Sentence Tokenize DE</center>\n",
    "Niemickie skróty:\n",
    "- <b>z.B.</b> (zum Beispiel) = <b>np.</b> (na przykład)\n",
    "- <b>u.</b> (und) = spójnik <b>i</b> \n",
    "[<div align=\"right\">↑ Powrót do spisu treści ↑</div>](#Spis-treści:)"
   ]
  },
  {
   "cell_type": "code",
   "execution_count": 8,
   "metadata": {
    "collapsed": false
   },
   "outputs": [
    {
     "name": "stdout",
     "output_type": "stream",
     "text": [
      "'Haben Sie Lust mit zu mir zu kommen und alles das zu tun, z.B. was ich allen anderen morgen sowieso erzählen werde?'\n",
      "'Ich weigere mich, in dem alten u. verspukten Schloss zu schlafen.'\n",
      "'ich habe Angst vor Geistern!'\n"
     ]
    }
   ],
   "source": [
    "text_de = u\"Haben Sie Lust mit zu mir zu kommen und alles das zu tun, z.B. was ich allen anderen morgen sowieso erzählen werde? Ich weigere mich, in dem alten u. verspukten Schloss zu schlafen. ich habe Angst vor Geistern!\"\n",
    "sent_tokenize_de = nltk.data.load('tokenizers/punkt/german.pickle')\n",
    "sents_de = sent_tokenize_de.tokenize(text_de)\n",
    "for i in sents_de:\n",
    "    print \"'\" + i + \"'\""
   ]
  },
  {
   "cell_type": "markdown",
   "metadata": {},
   "source": [
    "---\n",
    "\n",
    "## Online NLKT\n",
    "Dostępna jest wejska online, zawierająca:\n",
    "- [tokenizer](http://text-processing.com/demo/tokenize/)\n",
    "- [stemmer](http://text-processing.com/demo/stem/)\n",
    "- [analizę nastroju](http://text-processing.com/demo/sentiment/)\n",
    "- [tagger](http://text-processing.com/demo/tag/)\n",
    "\n",
    "Pod adresem: [Python NLTK Demos](http://text-processing.com/demo/)\n",
    "[<div align=\"right\">↑ Powrót do spisu treści ↑</div>](#Spis-treści:)\n",
    "\n",
    "---\n",
    "\n",
    "## Uwagi\n",
    "1. Powstało podczas zajęć: <b>Przetwarzanie Języka Naturalnego</b>\n",
    "1. Instalacja uwzględnia tylko dystrybucję <b>Linuxa</b> (Debian/Ubuntu, Fedora) i ich pochodne!\n",
    "1. Instalacja <b>NLTK</b> została przeprowadzona na <b>Python 2</b>\n",
    "1. Dla lepszej interakcji uruchom za pomocą polecenia: <b>ipython notebook</b>\n",
    "\n",
    "[<div align=\"right\">↑ Powrót do spisu treści ↑</div>](#Spis-treści:)"
   ]
  }
 ],
 "metadata": {
  "kernelspec": {
   "display_name": "Python 2",
   "language": "python",
   "name": "python2"
  },
  "language_info": {
   "codemirror_mode": {
    "name": "ipython",
    "version": 2
   },
   "file_extension": ".py",
   "mimetype": "text/x-python",
   "name": "python",
   "nbconvert_exporter": "python",
   "pygments_lexer": "ipython2",
   "version": "2.7.10"
  }
 },
 "nbformat": 4,
 "nbformat_minor": 0
}
